{
 "cells": [
  {
   "cell_type": "markdown",
   "metadata": {},
   "source": [
    "# A little statistis Q1B\n"
   ]
  },
  {
   "cell_type": "code",
   "execution_count": 21,
   "metadata": {},
   "outputs": [],
   "source": [
    "import numpy as np\n",
    "import matplotlib\n",
    "import matplotlib.pyplot as plt\n",
    "import scipy\n",
    "from scipy import stats"
   ]
  },
  {
   "cell_type": "markdown",
   "metadata": {},
   "source": [
    "Integrating the standard normal distribution to find the probability associated with given sigma."
   ]
  },
  {
   "cell_type": "code",
   "execution_count": 22,
   "metadata": {},
   "outputs": [
    {
     "name": "stdout",
     "output_type": "stream",
     "text": [
      "0.8413447460685429\n",
      "0.9986501019683699\n",
      "0.0013498980316301035\n"
     ]
    }
   ],
   "source": [
    "prob1 = stats.norm.cdf(1)\n",
    "prob2 = stats.norm.cdf(3)\n",
    "prob3 = 1- stats.norm.cdf(3)\n",
    "\n",
    "print(prob1)\n",
    "print(prob2)\n",
    "print(prob3)"
   ]
  },
  {
   "cell_type": "markdown",
   "metadata": {},
   "source": [
    "The probabilities match the cumulative z values.\n",
    "Z = 1 => 0.84134\n",
    "Z = 3 => 0.99865\n",
    "Z = -3 => 0.00135\n",
    "\n",
    "These probabilities are calcualted by integrating the starndard normal distribution from the negative infinity to given sigma value.\n"
   ]
  },
  {
   "cell_type": "markdown",
   "metadata": {},
   "source": [
    "# A little statistis Q1C"
   ]
  },
  {
   "cell_type": "markdown",
   "metadata": {},
   "source": [
    "Calculating the sigma using norm.ppf() and given probaiblity."
   ]
  },
  {
   "cell_type": "code",
   "execution_count": 23,
   "metadata": {},
   "outputs": [
    {
     "name": "stdout",
     "output_type": "stream",
     "text": [
      "1.0\n",
      "2.9999999999999982\n",
      "-2.9999999999999982\n"
     ]
    }
   ],
   "source": [
    "sigma1 = stats.norm.ppf(0.8413447460685429)\n",
    "sigma2 = stats.norm.ppf(0.9986501019683699)\n",
    "sigma3 = stats.norm.ppf(0.0013498980316301035)\n",
    "\n",
    "print(sigma1)\n",
    "print(sigma2)\n",
    "print(sigma3)"
   ]
  },
  {
   "cell_type": "markdown",
   "metadata": {},
   "source": [
    "Above sigma values are calculated by giving a specific value of probability norm.ppf().  We know from Q1B the correct sigma asoociated with each probability and here I am proving that the sigma values match that values."
   ]
  },
  {
   "cell_type": "markdown",
   "metadata": {},
   "source": [
    "# A little statistis Q1D\n",
    "Meaning of the minus sigma?\n",
    "\n",
    "We can see in Q1B that norm.cdf() integrates the standard normal distribution from minus infinity to the sigma value given as the parameter. Generally, when we are looking for a probability associated with a specific sigma value, we are looking for a probility to the right of the sigma value, i.e. from that sigma value to positive infinity. So in this case, we will need to calculate the probability using either 1-norm.cdf(positive sigma) or norm.cdf(minus sigma). Since normal distribution is symmetrical, integration the distribution from minus infinity to minius sigma value will return the correct tail-end probability. So depnding on the context, we will need to use positive sigma or negative sigma to get the correct probability."
   ]
  },
  {
   "cell_type": "markdown",
   "metadata": {},
   "source": [
    "# A little statistis Q2A: I decided to use an exponential distribution"
   ]
  },
  {
   "cell_type": "markdown",
   "metadata": {},
   "source": [
    "Here is my plot for the exponential distribution"
   ]
  },
  {
   "cell_type": "code",
   "execution_count": 24,
   "metadata": {},
   "outputs": [
    {
     "data": {
      "text/plain": [
       "<function matplotlib.pyplot.show(*args, **kw)>"
      ]
     },
     "execution_count": 24,
     "metadata": {},
     "output_type": "execute_result"
    },
    {
     "data": {
      "image/png": "[encoded data removed]",
      "text/plain": [
       "<Figure size 1080x720 with 1 Axes>"
      ]
     },
     "metadata": {
      "needs_background": "light"
     },
     "output_type": "display_data"
    }
   ],
   "source": [
    "plt.rcParams[\"figure.figsize\"] = (15,10)\n",
    "fig, ax = plt.subplots(1, 1)\n",
    "\n",
    "x = np.linspace(0,10,1000);\n",
    "prob = stats.expon.pdf(x) \n",
    "ax.plot(x, prob,'r-', lw=5, alpha=0.6, label='expon pdf')\n",
    "ax.legend()\n",
    "\n",
    "r = stats.expon.rvs(size=100000)\n",
    "ax.hist(r, bins = 100, density = True, label='expon histogram')\n",
    "ax.legend()\n",
    "plt.show"
   ]
  },
  {
   "cell_type": "markdown",
   "metadata": {},
   "source": [
    "# A little statistis Q3A"
   ]
  },
  {
   "cell_type": "markdown",
   "metadata": {},
   "source": [
    "Selecting my hypothetical measurement value to be 2."
   ]
  },
  {
   "cell_type": "markdown",
   "metadata": {},
   "source": [
    "# A little statistis Q3B"
   ]
  },
  {
   "cell_type": "markdown",
   "metadata": {},
   "source": [
    "Setting my hypothetical value to be 2. \n",
    "If my signal free data has a exponential distribution, what is the probability that the data produces a signal that \n",
    "is equally or more signal-like than the signal I observed which has a value of 2?\n"
   ]
  },
  {
   "cell_type": "markdown",
   "metadata": {},
   "source": [
    "# A little statistis Q3C"
   ]
  },
  {
   "cell_type": "markdown",
   "metadata": {},
   "source": [
    "Probability = integral of the probability density function from observed value 2 to positive infinity on the exponential distribution"
   ]
  },
  {
   "cell_type": "markdown",
   "metadata": {},
   "source": [
    "# A little statistis Q3D"
   ]
  },
  {
   "cell_type": "code",
   "execution_count": 25,
   "metadata": {},
   "outputs": [
    {
     "name": "stdout",
     "output_type": "stream",
     "text": [
      "0.1353352832366127\n"
     ]
    }
   ],
   "source": [
    "prob = 1- stats.expon.cdf(2)\n",
    "print(prob)"
   ]
  },
  {
   "cell_type": "markdown",
   "metadata": {},
   "source": [
    "This is the probability that the data produces a signal that is equally or more signal like thatn what we observed."
   ]
  },
  {
   "cell_type": "markdown",
   "metadata": {},
   "source": [
    "# A little statistis Q3E"
   ]
  },
  {
   "cell_type": "code",
   "execution_count": 26,
   "metadata": {},
   "outputs": [
    {
     "name": "stdout",
     "output_type": "stream",
     "text": [
      "-1.10151962849875\n"
     ]
    }
   ],
   "source": [
    "sigma = stats.norm.ppf(prob)\n",
    "print(sigma)"
   ]
  },
  {
   "cell_type": "markdown",
   "metadata": {},
   "source": [
    "The probability of this signal free data giving a measurement that is equally or more signal like than what I observed\n",
    "is 1.10 sigma"
   ]
  },
  {
   "cell_type": "markdown",
   "metadata": {},
   "source": [
    "# Non-continuous distributions Q1A\n",
    "I will be using a Poisson distribution for the rest of the questions."
   ]
  },
  {
   "cell_type": "markdown",
   "metadata": {},
   "source": [
    "# Non-continuous distributions Q1B-(1)\n",
    "Plot 1: Poisson probability density function\n",
    "(mu = 1)"
   ]
  },
  {
   "cell_type": "code",
   "execution_count": 27,
   "metadata": {},
   "outputs": [
    {
     "data": {
      "text/plain": [
       "<matplotlib.legend.Legend at 0x7f0c49c24e90>"
      ]
     },
     "execution_count": 27,
     "metadata": {},
     "output_type": "execute_result"
    },
    {
     "data": {
      "image/png": "[encoded data removed]",
      "text/plain": [
       "<Figure size 1080x720 with 1 Axes>"
      ]
     },
     "metadata": {
      "needs_background": "light"
     },
     "output_type": "display_data"
    }
   ],
   "source": [
    "from scipy.stats import poisson\n",
    "import matplotlib.pyplot as plt\n",
    "plt.rcParams[\"figure.figsize\"] = (15,10)\n",
    "fig, ax = plt.subplots(1, 1)\n",
    "x = range(0,20)\n",
    "mu = 1\n",
    "prob = stats.poisson.pmf(x, mu) \n",
    "ax.step(x,prob, label='poisson pdf')\n",
    "ax.legend()"
   ]
  },
  {
   "cell_type": "markdown",
   "metadata": {},
   "source": [
    "# Non-continuous distributions Q1B-(2)\n",
    "Plot 2: Poisson probability density function\n",
    "(mu = 0.5)"
   ]
  },
  {
   "cell_type": "code",
   "execution_count": 28,
   "metadata": {},
   "outputs": [
    {
     "data": {
      "text/plain": [
       "<matplotlib.legend.Legend at 0x7f0c49980e90>"
      ]
     },
     "execution_count": 28,
     "metadata": {},
     "output_type": "execute_result"
    },
    {
     "data": {
      "image/png": "[encoded data removed]",
      "text/plain": [
       "<Figure size 1080x720 with 1 Axes>"
      ]
     },
     "metadata": {
      "needs_background": "light"
     },
     "output_type": "display_data"
    }
   ],
   "source": [
    "plt.rcParams[\"figure.figsize\"] = (15,10)\n",
    "fig, ax = plt.subplots(1, 1)\n",
    "x = range(0,20)\n",
    "mu = 0.5\n",
    "prob = stats.poisson.pmf(x, mu) \n",
    "ax.step(x,prob, label='poisson pdf')\n",
    "ax.legend()"
   ]
  },
  {
   "cell_type": "markdown",
   "metadata": {},
   "source": [
    "# Non-continuous distributions Q1B-(3)\n",
    "Plot 3: Poisson probability density function\n",
    "(mu = 3)"
   ]
  },
  {
   "cell_type": "code",
   "execution_count": 29,
   "metadata": {},
   "outputs": [
    {
     "data": {
      "text/plain": [
       "<matplotlib.legend.Legend at 0x7f0c49c57490>"
      ]
     },
     "execution_count": 29,
     "metadata": {},
     "output_type": "execute_result"
    },
    {
     "data": {
      "image/png": "[encoded data removed]",
      "text/plain": [
       "<Figure size 1080x720 with 1 Axes>"
      ]
     },
     "metadata": {
      "needs_background": "light"
     },
     "output_type": "display_data"
    }
   ],
   "source": [
    "plt.rcParams[\"figure.figsize\"] = (15,10)\n",
    "fig, ax = plt.subplots(1, 1)\n",
    "x = range(0,20)\n",
    "mu = 3\n",
    "prob = stats.poisson.pmf(x, mu) \n",
    "ax.step(x,prob, label='poisson pdf')\n",
    "ax.legend()"
   ]
  },
  {
   "cell_type": "code",
   "execution_count": 30,
   "metadata": {},
   "outputs": [],
   "source": [
    "# Non-continuous distributions "
   ]
  },
  {
   "cell_type": "markdown",
   "metadata": {},
   "source": [
    "# Non-continuous distributions Q1B: Explain the features\n",
    "Poisson distribution has a discrete probability for each discrete x value. By changing the mean value, mu, the peak of the distribution changes and ultimately the shape of the distribution changes. Poisson distibution is centered around that mu value and the rest of the x values are given a low proability. This is why the distribution peaks at the mean value and goes very flat instantly."
   ]
  },
  {
   "cell_type": "markdown",
   "metadata": {},
   "source": [
    "# Non-continuous distributions Q1C\n",
    "I am setting my hypothetical value to be 4. \n",
    "\n",
    "The question I would like to answer is:\n",
    "If my signal free data has a poisson distribution, what is the probability that the data produces a signal that is equally or more signal-like than the signal I observed which has a value of 4?\n"
   ]
  },
  {
   "cell_type": "markdown",
   "metadata": {},
   "source": [
    "Calculating the equally or more signal-like probability."
   ]
  },
  {
   "cell_type": "code",
   "execution_count": 31,
   "metadata": {},
   "outputs": [
    {
     "name": "stdout",
     "output_type": "stream",
     "text": [
      "0.00365984682734366\n",
      "0.00017211562995589347\n",
      "0.1847367554762278\n"
     ]
    }
   ],
   "source": [
    "prob1 = 1-stats.poisson.cdf(4,1)\n",
    "prob2 = 1-stats.poisson.cdf(4,0.5)\n",
    "prob3 = 1-stats.poisson.cdf(4,3)\n",
    "\n",
    "print(prob1)\n",
    "print(prob2)\n",
    "print(prob3)"
   ]
  },
  {
   "cell_type": "markdown",
   "metadata": {},
   "source": [
    "These are the probabilities that the data process a signal that is equally or more signal-like than the signal I observed, for each given mu (mu = 1, 0.5, 3)"
   ]
  },
  {
   "cell_type": "markdown",
   "metadata": {},
   "source": [
    "# Non-continuous distributions Q1D\n",
    "Since the distributions, the probabilities, and the sigmas are discrete, how you evaluate the signal will have a significant impact on the result. For example, if the value of the observed signal seems to be in between 4 and 5, how you treat this value will greatly change the outcome of null hypothesis of whether that observed signal is more signal like or not."
   ]
  },
  {
   "cell_type": "markdown",
   "metadata": {},
   "source": [
    "# Non-continuous distributions Q1E\n",
    "It makes sense to have a mean value of 9.2 since this is the average number of success in a given time interval. So even though the x values are discrete, the mean could be of any decimal number. However, this does not change that fact that there is only one discrete probability density associated with a dicrete x value. The mean value can change continuously depending on the possible number of sucesses, but the probability and the x values will always remain discrete for poisson distribution."
   ]
  },
  {
   "cell_type": "code",
   "execution_count": null,
   "metadata": {},
   "outputs": [],
   "source": []
  }
 ],
 "metadata": {
  "kernelspec": {
   "display_name": "Python 3",
   "language": "python",
   "name": "python3"
  },
  "language_info": {
   "codemirror_mode": {
    "name": "ipython",
    "version": 3
   },
   "file_extension": ".py",
   "mimetype": "text/x-python",
   "name": "python",
   "nbconvert_exporter": "python",
   "pygments_lexer": "ipython3",
   "version": "3.7.4"
  }
 },
 "nbformat": 4,
 "nbformat_minor": 4
}
