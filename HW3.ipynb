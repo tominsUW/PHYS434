{
 "cells": [
  {
   "cell_type": "markdown",
   "metadata": {},
   "source": [
    "# HW3"
   ]
  },
  {
   "cell_type": "markdown",
   "metadata": {},
   "source": [
    "# Q1\n",
    "1a) Which algorithm makes the fewest mistakes?"
   ]
  },
  {
   "cell_type": "markdown",
   "metadata": {},
   "source": [
    "NN algorithm makes a fewer mistake than NA algorithm. This is very clear when you calculate the diagonal value of the table which gives you the sume of the number of mistakes made by the algorithm. NN algorthm makes a total of 8 mistakes whereas the NA algorithm makes a total mistakes of 12. "
   ]
  },
  {
   "cell_type": "markdown",
   "metadata": {},
   "source": [
    "1b) Which algorithm is better for the zoo? Explain."
   ]
  },
  {
   "cell_type": "markdown",
   "metadata": {},
   "source": [
    "It is better for the zoo to use the NA algorithm since it makes less mistake in identifying the birds. Although NA makes much more mistake with identifying people as birds, for the zoo operation, it is more critical that they make less mistake with identifying the birds than people so it is better to chooose NA. This is clear when you calculate and compare the probability of mistakes NA algorthm makes in identifying people and birds with the probability of mistakes NN algorithm makes.  "
   ]
  },
  {
   "cell_type": "code",
   "execution_count": 25,
   "metadata": {},
   "outputs": [
    {
     "name": "stdout",
     "output_type": "stream",
     "text": [
      "\n",
      "The probability of NN algorithm identifyng a bird as a person  = 6.25%\n",
      "The probability of NN algorithm identifyng a person as a bird  = 9.62%\n",
      "The probability of NA algorithm identifyng a bird as a person  = 2.08%\n",
      "The probability of NA algorithm identifyng a person as a bird  = 20.75%\n",
      "\n"
     ]
    }
   ],
   "source": [
    "NN_bird_as_ppl = 3/48\n",
    "NN_ppl_as_bird = 5/52\n",
    "NA_bird_as_ppl = 1/48\n",
    "NA_ppl_as_bird = 11/53\n",
    "\n",
    "print('')\n",
    "print('The probability of NN algorithm identifyng a bird as a person  = {:.2%}'.format(NN_bird_error))\n",
    "print('The probability of NN algorithm identifyng a person as a bird  = {:.2%}'.format(NN_ppl_error))\n",
    "print('The probability of NA algorithm identifyng a bird as a person  = {:.2%}'.format(NA_bird_error))\n",
    "print('The probability of NA algorithm identifyng a person as a bird  = {:.2%}'.format(NA_ppl_error))\n",
    "print('')"
   ]
  },
  {
   "cell_type": "markdown",
   "metadata": {},
   "source": [
    "1c) During the pandemic the number of visitors plummets, and it is only the zoo keeper visiting. So instead of 52% of the photos taken at the aviary door being people, it is now only 1%. Make new truth tables for both algorithms."
   ]
  },
  {
   "cell_type": "code",
   "execution_count": 43,
   "metadata": {},
   "outputs": [
    {
     "name": "stdout",
     "output_type": "stream",
     "text": [
      "\n",
      "                      |True Bird             |True People           \n",
      "--------------------------------------------------------------------\n",
      "NN Bird               |93                    |0                     \n",
      "NN People             |6                     |1                     \n",
      "\n"
     ]
    }
   ],
   "source": [
    "total_num_birds1 = round(0.99*100)\n",
    "total_num_ppl1 = round(0.01*100)\n",
    "\n",
    "total_num_birds2 = round(0.99*101)\n",
    "total_num_ppl2 = round(0.01*101)\n",
    "\n",
    "True_bird_NN_person = round(total_num_birds1*NN_bird_as_ppl)\n",
    "True_bird_NN_bird = round(total_num_birds1-True_bird_NN_person)\n",
    "True_person_NN_bird = round(total_num_ppl1*NN_ppl_as_bird)\n",
    "True_person_NN_person = round(total_num_ppl1 - True_person_NN_bird)\n",
    "\n",
    "\n",
    "True_bird_NA_person = round(total_num_birds2*NA_bird_as_ppl)\n",
    "True_bird_NA_bird = round(total_num_birds2-True_bird_NA_person)\n",
    "True_person_NA_bird = round(total_num_ppl2*NA_ppl_as_bird)\n",
    "True_person_NA_person = round(total_num_ppl2 - True_person_NA_bird)\n",
    "\n",
    "print()\n",
    "names = ['NN Bird', 'NN Person']\n",
    "True_bird_test_bird = [True_bird_NN_bird, True_bird_NN_person]\n",
    "True_bird_Test_People = [True_person_NN_bird, True_person_NN_person]\n",
    "\n",
    "titles = [' ','True Bird', 'True Person']\n",
    "data = [titles] + list(zip(names, True_bird_test_bird, True_bird_Test_People))\n",
    "\n",
    "for i, d in enumerate(data):\n",
    "    line = '|'.join(str(x).ljust(22) for x in d)\n",
    "    print(line)\n",
    "    if i == 0:\n",
    "        print('-' * len(line))\n",
    "\n",
    "print()"
   ]
  },
  {
   "cell_type": "code",
   "execution_count": 45,
   "metadata": {},
   "outputs": [
    {
     "name": "stdout",
     "output_type": "stream",
     "text": [
      "\n",
      "                      |True Bird             |True Person           \n",
      "--------------------------------------------------------------------\n",
      "NA Bird               |98                    |0                     \n",
      "NA Person             |2                     |1                     \n",
      "\n"
     ]
    }
   ],
   "source": [
    "names = ['NA Bird', 'NA Person']\n",
    "True_bird_test_bird = [True_bird_NA_bird, True_bird_NA_person]\n",
    "True_bird_Test_People = [True_person_NA_bird, True_person_NA_person]\n",
    "\n",
    "titles = [' ','True Bird', 'True Person']\n",
    "data = [titles] + list(zip(names, True_bird_test_bird, True_bird_Test_People))\n",
    "\n",
    "print()\n",
    "for i, d in enumerate(data):\n",
    "    line = '|'.join(str(x).ljust(22) for x in d)\n",
    "    print(line)\n",
    "    if i == 0:\n",
    "        print('-' * len(line))\n",
    "\n",
    "print()"
   ]
  },
  {
   "cell_type": "markdown",
   "metadata": {},
   "source": [
    "# Q2\n",
    "2a) What is the pdf of the sum of two identical exponential distributions?"
   ]
  },
  {
   "cell_type": "markdown",
   "metadata": {},
   "source": [
    "This answer can be found analytically by referring to Song_IIE_Transactions_DistributionRelations_2004's relationships among 35 distributions chart. The pdf of the sum of two identical exponential distribution is a Erlang distribution. "
   ]
  },
  {
   "cell_type": "markdown",
   "metadata": {},
   "source": [
    "2b) What is the pdf of the ratio of two zero-mean unity variance normal distributions X1/X2?"
   ]
  },
  {
   "cell_type": "markdown",
   "metadata": {},
   "source": [
    "Again referring to the distribution relationship chart used in Q2(a), we can see that the pdf of the ratio of two zero-mean unity variance normal distribution is a standard Cauchy distribution"
   ]
  },
  {
   "cell_type": "markdown",
   "metadata": {},
   "source": [
    "2c) So far we have looked at 1D probability distributions, but it is possible to have a multi-dimensional vector distribution. A simple first introduction is the 2D Guassian; it looks like a smeared spot. Mathematically this is given by $X \\hat{i} + Y \\hat{j}$ where both $X$ and $Y$ are drawn from 1D Gaussian distributions. If I measure the amplitude of this vector, what is its pdf? (Hint, the amplitude is always positive.)"
   ]
  },
  {
   "cell_type": "markdown",
   "metadata": {},
   "source": [
    "The amplitude of this vector is the pdf of the Rayleigh. It is foudn that if you have two zero mean Gaussian distributions with the same sigma, then the amplitude which is the sqaureroot of the sum of X^2 and Y^2 is Rayleigh distributed"
   ]
  },
  {
   "cell_type": "code",
   "execution_count": null,
   "metadata": {},
   "outputs": [],
   "source": []
  }
 ],
 "metadata": {
  "kernelspec": {
   "display_name": "Python 3",
   "language": "python",
   "name": "python3"
  },
  "language_info": {
   "codemirror_mode": {
    "name": "ipython",
    "version": 3
   },
   "file_extension": ".py",
   "mimetype": "text/x-python",
   "name": "python",
   "nbconvert_exporter": "python",
   "pygments_lexer": "ipython3",
   "version": "3.7.4"
  }
 },
 "nbformat": 4,
 "nbformat_minor": 4
}
