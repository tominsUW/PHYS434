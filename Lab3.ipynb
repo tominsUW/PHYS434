{
 "cells": [
  {
   "cell_type": "code",
   "execution_count": 2,
   "metadata": {},
   "outputs": [],
   "source": [
    "%matplotlib inline\n",
    "import numpy as np\n",
    "import matplotlib\n",
    "import matplotlib.pyplot as plt\n",
    "import scipy\n",
    "from scipy import stats\n",
    "\n",
    "#this sets the size of the plot to something useful\n",
    "plt.rcParams[\"figure.figsize\"] = (20,15)"
   ]
  },
  {
   "cell_type": "markdown",
   "metadata": {},
   "source": [
    "# Problem 1"
   ]
  },
  {
   "cell_type": "markdown",
   "metadata": {},
   "source": [
    "Here I am trying to figure out how to elimiate bad data without eliminating too much of the good data. I am given 100k good data and 8 random bad data."
   ]
  },
  {
   "cell_type": "code",
   "execution_count": 3,
   "metadata": {},
   "outputs": [
    {
     "data": {
      "image/png": "[encoded data removed]",
      "text/plain": [
       "<Figure size 1440x1080 with 1 Axes>"
      ]
     },
     "metadata": {
      "needs_background": "light"
     },
     "output_type": "display_data"
    }
   ],
   "source": [
    "d = np.append(stats.norm.rvs(loc = 12., scale = 0.4, size = 100000), [10., 10.3, 2.1, 0., 0., 15.6, 22.3, 12.7])\n",
    "fig, ax = plt.subplots(1, 1)\n",
    "ax.hist(d,100, density=True)\n",
    "plt.tick_params(labelsize = 24)\n",
    "plt.yscale('log')\n",
    "#x = np.linspace(4.95,5.05,1000)\n",
    "#ax.plot(x,stats.norm.pdf(x,loc = 5., scale = 0.01),linewidth = 8,alpha = 0.7)\n",
    "plt.show()"
   ]
  },
  {
   "cell_type": "markdown",
   "metadata": {},
   "source": [
    "\n",
    "\n",
    "To figure out how to get rid the bad data, I first plotted a gaussian distribution. By looking at the gaussian distribution and the location of the bad data, I can see how closely the data sets behave or do not behave.\n",
    "\n",
    "\n",
    "Now, to eliminate the bad data, I am asking myself the following statistical question: Given that the temperature reading has Gaussian distribution, where do we set the cut off threshold to eliminate as much bad data but minimize the amount of good data getting thrown out?\n",
    "\n",
    "I am choosing this to be my statistical question because, where we set the trhehold will have a impact on the overall distribution of the data and the quality of data. Given that the amount of bad data is small compared to the amount of the good data, eliminating keeping some bad data does less harm than getting rid of the good data.\n",
    "\n",
    "To solve this question mathematically, I should take the following steps:\n",
    "\n",
    "1) Set x values for both tails and eliminate all datas from the array of data set containing both good and bad data.\n",
    "\n",
    "2) Construct a truth table \n",
    "\n",
    "3) Calculate the diagonal to see how much of the good data and bad data are being eliminated\n",
    "\n",
    "4) Calculated the probability of the good data being eliminated by changing the threshold value\n"
   ]
  },
  {
   "cell_type": "code",
   "execution_count": 12,
   "metadata": {},
   "outputs": [
    {
     "name": "stdout",
     "output_type": "stream",
     "text": [
      "Truth table: Data cut off at values less than 10 and greater than 14\n",
      "\n",
      "                      |True Good             |True Bad              \n",
      "--------------------------------------------------------------------\n",
      "Test Good             |100000                |3                     \n",
      "Test Bad              |0                     |5                     \n",
      "The total number of error/diagonal = 3\n",
      "The probability of omissions = 0.00%\n",
      "\n",
      "\n",
      "Truth table: Data cut off at values less than 10.5 and greater than 13.5\n",
      "\n",
      "                      |True Good             |True Bad              \n",
      "--------------------------------------------------------------------\n",
      "Test Good             |99979                 |3                     \n",
      "Test Bad              |21                    |5                     \n",
      "The total number of error/diagonal = 24\n",
      "The probability of omissions = 0.02%\n",
      "\n"
     ]
    }
   ],
   "source": [
    "bad_data = np.asarray([10., 10.3, 2.1, 0., 0., 15.6, 22.3, 12.7])\n",
    "\n",
    "# Cutting off bad data below 10 and greater than 14\n",
    "d = np.append(stats.norm.rvs(loc = 12., scale = 0.4, size = 100000), [10., 10.3, 2.1, 0., 0., 15.6, 22.3, 12.7])\n",
    "d_mod = d[(d >= 10) & (d <= 14)]\n",
    "\n",
    "eliminated_bad_data = bad_data[(bad_data >= 10) & (bad_data <= 14)]\n",
    "\n",
    "True_bad_test_bad = 8 - eliminated_bad_data.size\n",
    "True_good_test_good = d_mod.size - (bad_data.size - True_bad_test_bad)\n",
    "True_good_test_bad = 100000 - True_good_test_good\n",
    "True_bad_test_good = bad_data.size - True_bad_test_bad\n",
    "diagonal = True_good_test_bad+True_bad_test_good\n",
    "omissions = True_good_test_bad/d.size \n",
    "\n",
    "\n",
    "print('Truth table: Data cut off at values less than 10 and greater than 14')\n",
    "print()\n",
    "names = ['Test Good', 'Test Bad']\n",
    "True_good_test_good = [True_good_test_good, True_good_test_bad]\n",
    "True_good_test_bad = [True_bad_test_good, True_bad_test_bad]\n",
    "\n",
    "titles = [' ','True Good', 'True Bad']\n",
    "data = [titles] + list(zip(names, True_good_test_good, True_good_test_bad))\n",
    "\n",
    "for i, d in enumerate(data):\n",
    "    line = '|'.join(str(x).ljust(22) for x in d)\n",
    "    print(line)\n",
    "    if i == 0:\n",
    "        print('-' * len(line))\n",
    "print('The total number of error/diagonal = {:.0f}'.format(diagonal))\n",
    "print('The probability of omissions = {:.2%}'.format(omissions)) \n",
    "\n",
    "\n",
    "\n",
    "print()\n",
    "print()\n",
    "print('Truth table: Data cut off at values less than 10.5 and greater than 13.5')\n",
    "print()\n",
    "# Cutting off bad data below 10.5 and greater than 13.5\n",
    "d = np.append(stats.norm.rvs(loc = 12., scale = 0.4, size = 100000), [10., 10.3, 2.1, 0., 0., 15.6, 22.3, 12.7])\n",
    "d_mod = d[(d >= 10.5) & (d <= 13.5)]\n",
    "\n",
    "eliminated_bad_data = bad_data[(bad_data >= 10) & (bad_data <= 14)]\n",
    "\n",
    "True_bad_test_bad = 8 - eliminated_bad_data.size\n",
    "True_good_test_good = d_mod.size - (bad_data.size - True_bad_test_bad)\n",
    "True_good_test_bad = 100000 - True_good_test_good\n",
    "True_bad_test_good = bad_data.size - True_bad_test_bad\n",
    "diagonal = True_good_test_bad+True_bad_test_good\n",
    "omissions = True_good_test_bad/d.size\n",
    "\n",
    "names = ['Test Good', 'Test Bad']\n",
    "True_good_test_good = [True_good_test_good, True_good_test_bad]\n",
    "True_good_test_bad = [True_bad_test_good, True_bad_test_bad]\n",
    "\n",
    "titles = [' ','True Good', 'True Bad']\n",
    "data = [titles] + list(zip(names, True_good_test_good, True_good_test_bad))\n",
    "\n",
    "for i, d in enumerate(data):\n",
    "    line = '|'.join(str(x).ljust(22) for x in d)\n",
    "    print(line)\n",
    "    if i == 0:\n",
    "        print('-' * len(line))\n",
    "\n",
    "print('The total number of error/diagonal = {:.0f}'.format(diagonal)) \n",
    "print('The probability of omissions = {:.2%}'.format(omissions)) \n",
    "print()\n"
   ]
  },
  {
   "cell_type": "markdown",
   "metadata": {},
   "source": [
    "As you can see, the number of omissions increases as we change the threshold value to something closer to the mean value.\n",
    "Since the data distribution has a shape of guassian distribution, we know how much percentage of data is included in each interval of x values. As we change the statistical threshold value closer  and closer to the mean value, we know how much proportion of the good data gets thrown out. The number of omission can be calculated by using the pdf of the gaussian distribution so the number of omission is predictable.\n"
   ]
  },
  {
   "cell_type": "markdown",
   "metadata": {},
   "source": [
    "\n",
    "Furthermore, depending on where you set your priotiry the probability of omission and commission can change.  It all  depends on you statistical threshold. If you set your threshold far from the mean value, you can reduce the amount of omissions but you do increase the risk of more comission. Whereas if you set the threshold very close to the mean, you can reduce the amount of comission but increase the amount of omission. "
   ]
  },
  {
   "cell_type": "markdown",
   "metadata": {},
   "source": [
    "# Problem 2\n",
    "In this section, I am studying the imaging of the stars' position in the sky which has 2D gaussian distribution. And using this information to figure out what kind of movement in these imaging I need to detect to find an astroid. So I am trying to answer the following statistical question:"
   ]
  },
  {
   "cell_type": "code",
   "execution_count": null,
   "metadata": {},
   "outputs": [],
   "source": [
    "a = np.vstack((stats.norm.rvs( scale = 1, size = 100000), stats.norm.rvs( scale = 1, size = 100000)))\n",
    "a.shape\n",
    "fig, ax = plt.subplots(1, 1)\n",
    "h = ax.hist2d(a[0,:],a[1,:],bins=100, density=True);\n",
    "ax.set_aspect('equal', 'box')\n",
    "plt.xlim([-3 , 3])\n",
    "plt.ylim([-3 , 3])\n",
    "plt.title(\"2D Histogram of positional uncertainty\", fontsize = 24)\n",
    "plt.ylabel(\"$\\Delta$y arcseconds\", fontsize = 18)\n",
    "plt.xlabel(\"$\\Delta$x arcseconds\", fontsize = 18)\n",
    "plt.colorbar(h[3], ax=ax);"
   ]
  },
  {
   "cell_type": "markdown",
   "metadata": {},
   "source": [
    "If the imaging of the stars position in the sky can be described by a 2D gaussian distribution, where the mean describes the most positionally stable stars, how much distance of movement does an image need to show for it to be an astoid?"
   ]
  },
  {
   "cell_type": "markdown",
   "metadata": {},
   "source": [
    "To solve my statistical question, I will have to take the following mathematical steps:"
   ]
  },
  {
   "cell_type": "markdown",
   "metadata": {},
   "source": [
    "1. This position uncertainty distrubtion has a 2D gaussian distribution. We are looking for a change in distance in arcseconds which is the amplitude of the deltaX and deltaY vector. This means the pdf has a Rayleigh distribution because Rayleight distribution is the amplitude of 2D gaussian distribution.\n",
    "\n",
    "2. Calculate the 5sigma probability using gaussian distribution\n",
    "3. Find the x value of the Rayleigh distribution that corresponds to the 5sigma probability\n",
    "4. If we detect a distance in arc second greater or equal to this 5sigma value, we can be sure it is an astroid and not a star.\n"
   ]
  },
  {
   "cell_type": "markdown",
   "metadata": {},
   "source": [
    "Now, to find what distance in arcseconds represents a 5 sigma detection of motion, I am executing the following codes:"
   ]
  },
  {
   "cell_type": "code",
   "execution_count": 58,
   "metadata": {},
   "outputs": [
    {
     "name": "stdout",
     "output_type": "stream",
     "text": [
      "The 5sigma probability is = 0.0000286652%\n",
      "The distance in arcseconds that represents a 5 sigma detection of motion is = 5.489080 arcseconds\n"
     ]
    }
   ],
   "source": [
    "five_sigma_prob = 1- stats.norm.cdf(5)\n",
    "print('The 5sigma probability is = {:.10%}'.format(five_sigma_prob))\n",
    "\n",
    "five_sigma_distance = stats.rayleigh.ppf(1-five_sigma_prob)\n",
    "print('The distance in arcseconds that represents a 5 sigma detection of motion is = {:5f}'.format(five_sigma_distance) + ' arcseconds')"
   ]
  },
  {
   "cell_type": "markdown",
   "metadata": {},
   "source": [
    "5.5 arcseconds of distance is what kind of motion I need to detect to find an astroid."
   ]
  },
  {
   "cell_type": "markdown",
   "metadata": {},
   "source": [
    "# Problem 3\n",
    "\n",
    "I am conducting a moon shadow detection and trying to figure out how significant my detection is. I have information showing that the average signal I get per minute is 1 signal. Given that we have mean for a specific interval of time and this mean is a very small number, we can deduce our background distribution to be a Poisson distribution. So now my statistical question is as follows:\n"
   ]
  },
  {
   "cell_type": "markdown",
   "metadata": {},
   "source": [
    "\n",
    "\n",
    "If the background cosimic ray has a poission distribution with mu = 1 cosmic ray per minute, what is the significance of observing 6800 cosimic rays 8 hours a night for 15 days or equivalently in 7200 minutes? \n"
   ]
  },
  {
   "cell_type": "markdown",
   "metadata": {},
   "source": [
    "To answer the above statistical question we need to take the following mathmatical steps:\n",
    "\n",
    "First find the distrubution of detecting 6800 cosmic rays for 7200 minute given the initial background distribution of poisson distriubtion with mu =1. This requires a convolution of the background distribution for 7200 times because we are looking for a probability distribution of detecting cosmic rays for 7200 minutes. Because the original distribution is a poisson distribution, we can expect the distribution to remain poisson even after 7200 convolution. The mu of the new distribution is the original mu times the number of iteration so the mu for the new distribution is 7200. This is true because this is the unique property of a poisson distribution that the more samples we add to the distriubiton the mean gets larger by the number of additional samples.\n",
    "\n",
    "Now, we take an integral of this new distriubtion from negative infinity to 6800 to find the probability of detecting 6800 cosimic rays in 7200 minutes.\n",
    "\n",
    "Finally, translate this probability to gaussian distribution probability to find the sigma value. The significance of our detection is this sigma value. "
   ]
  },
  {
   "cell_type": "markdown",
   "metadata": {},
   "source": [
    "Below it shows the actual executing of above described mathematical steps to find the sigma:"
   ]
  },
  {
   "cell_type": "code",
   "execution_count": 56,
   "metadata": {},
   "outputs": [
    {
     "name": "stdout",
     "output_type": "stream",
     "text": [
      "The equivalent sigma for 6800 cosmic rays is = -4.751\n",
      "\n"
     ]
    }
   ],
   "source": [
    "prob =  stats.poisson.cdf(6800,7200)\n",
    "\n",
    "sigma = stats.norm.ppf(prob)\n",
    "print('The equivalent sigma for 6800 cosmic rays is = {:.3f}'.format(sigma))\n",
    "print()"
   ]
  },
  {
   "cell_type": "code",
   "execution_count": 55,
   "metadata": {},
   "outputs": [
    {
     "name": "stdout",
     "output_type": "stream",
     "text": [
      "The 5sigma probability is = 0.0000286652%\n",
      "The 5 sigma equivalent cosmic rays = 6780\n"
     ]
    }
   ],
   "source": [
    "five_sigma_prob = 1- stats.norm.cdf(5)\n",
    "print('The 5sigma probability is = {:.10%}'.format(five_sigma_prob))\n",
    "\n",
    "five_sigma_count = stats.poisson.ppf(five_sigma_prob,7200)\n",
    "print('The 5 sigma equivalent cosmic rays = {:.0f}'.format(five_sigma_count))"
   ]
  },
  {
   "cell_type": "markdown",
   "metadata": {},
   "source": [
    "The significance of the detected cosmic ray 6800 is 4.75 sigma. If we wanted to call our detection a discovery, we should have detected something less than 6780 which is the 5sigma equaivalent cosmic rays."
   ]
  },
  {
   "cell_type": "code",
   "execution_count": null,
   "metadata": {},
   "outputs": [],
   "source": []
  }
 ],
 "metadata": {
  "kernelspec": {
   "display_name": "Python 3",
   "language": "python",
   "name": "python3"
  },
  "language_info": {
   "codemirror_mode": {
    "name": "ipython",
    "version": 3
   },
   "file_extension": ".py",
   "mimetype": "text/x-python",
   "name": "python",
   "nbconvert_exporter": "python",
   "pygments_lexer": "ipython3",
   "version": "3.7.4"
  }
 },
 "nbformat": 4,
 "nbformat_minor": 4
}
